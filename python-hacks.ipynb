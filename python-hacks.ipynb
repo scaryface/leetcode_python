{
 "metadata": {
  "language_info": {
   "codemirror_mode": {
    "name": "ipython",
    "version": 3
   },
   "file_extension": ".py",
   "mimetype": "text/x-python",
   "name": "python",
   "nbconvert_exporter": "python",
   "pygments_lexer": "ipython3",
   "version": "3.9.1"
  },
  "orig_nbformat": 2,
  "kernelspec": {
   "name": "python391jvsc74a57bd02a92fce1d2c931f36fc1b5431d1a33587778e3302f36eaaabb0ab0c2d5104657",
   "display_name": "Python 3.9.1 64-bit ('frappe': conda)"
  },
  "metadata": {
   "interpreter": {
    "hash": "2a92fce1d2c931f36fc1b5431d1a33587778e3302f36eaaabb0ab0c2d5104657"
   }
  }
 },
 "nbformat": 4,
 "nbformat_minor": 2,
 "cells": [
  {
   "source": [
    "### Sorting list by custom key"
   ],
   "cell_type": "markdown",
   "metadata": {}
  },
  {
   "cell_type": "code",
   "execution_count": 4,
   "metadata": {},
   "outputs": [],
   "source": [
    "from operator import itemgetter, attrgetter"
   ]
  },
  {
   "cell_type": "code",
   "execution_count": 11,
   "metadata": {},
   "outputs": [],
   "source": [
    "class Interval:\n",
    "    def __init__(self, left, right):\n",
    "        self.left = left\n",
    "        self.right = right\n",
    "\n",
    "    def __repr__(self):\n",
    "        return '({},{})'.format(self.left, self.right)\n",
    "\n",
    "intervals = [\n",
    "    Interval(2,5),\n",
    "    Interval(2,3),\n",
    "    Interval(1,8)\n",
    "]"
   ]
  },
  {
   "cell_type": "code",
   "execution_count": 12,
   "metadata": {},
   "outputs": [
    {
     "output_type": "execute_result",
     "data": {
      "text/plain": [
       "[(1,8), (2,5), (2,3)]"
      ]
     },
     "metadata": {},
     "execution_count": 12
    }
   ],
   "source": [
    "# stable sorted: order between (2,5), (2,3) preserved\n",
    "sorted(intervals, key=attrgetter('left'))"
   ]
  },
  {
   "cell_type": "code",
   "execution_count": 13,
   "metadata": {},
   "outputs": [
    {
     "output_type": "execute_result",
     "data": {
      "text/plain": [
       "[(1,8), (2,3), (2,5)]"
      ]
     },
     "metadata": {},
     "execution_count": 13
    }
   ],
   "source": [
    "# sort sequentially using multiple keys\n",
    "sorted(intervals, key=attrgetter('left','right'))"
   ]
  },
  {
   "cell_type": "code",
   "execution_count": null,
   "metadata": {},
   "outputs": [],
   "source": []
  }
 ]
}